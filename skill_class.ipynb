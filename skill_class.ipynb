{
 "cells": [
  {
   "cell_type": "code",
   "execution_count": 3,
   "metadata": {
    "collapsed": true
   },
   "outputs": [],
   "source": [
    "import MySQLdb\n",
    "import MySQLdb.cursors\n",
    "import requests\n",
    "\n",
    "class skills_details():\n",
    "    \n",
    "    def search_keyword(self,text, keyword_list):\n",
    "        for word in keyword_list:\n",
    "            word = str(word)\n",
    "            if word.title() in text or word.upper() in text or word.capitalize() in text:\n",
    "                return True\n",
    "        return False\n",
    "    \n",
    "    def load_skill_segment(self,pdf_to_text_list,education_keywords,education_degree_category,\n",
    "                               project_keywords,skill_keywords, work_experience_keywords,other_keywords,\n",
    "                              skill_segment):\n",
    "\n",
    "        # Extract Skill Segment\n",
    "        for i, text in enumerate(pdf_to_text_list):\n",
    "            #print(i, text)\n",
    "            text = text.replace(\"|\",\"\")\n",
    "            #text = text.encode('ascii', 'ignore')\n",
    "            flag = False\n",
    "            if self.search_keyword(text, skill_keywords):\n",
    "                #print(text)\n",
    "                skill_segment.append(text)\n",
    "                i += 1\n",
    "                flag = True\n",
    "                while True and i < len(pdf_to_text_list):\n",
    "                    text = pdf_to_text_list[i]\n",
    "                    text = text.replace(\"|\",\"\")\n",
    "                    #print(text)\n",
    "                    if not self.search_keyword(text, education_keywords) and not self.search_keyword(text,\n",
    "                                                                                          education_degree_category) and not self.search_keyword(\n",
    "                            text, project_keywords) and not self.search_keyword(text, work_experience_keywords) and not self.search_keyword(\n",
    "                            text, other_keywords):\n",
    "                        skill_segment.append(text)\n",
    "                    else:\n",
    "                        break\n",
    "                    i += 1\n",
    "\n",
    "            if flag:\n",
    "                break\n",
    "        #print(\"====check skill segment====\",skill_segment)\n",
    "        return skill_segment\n",
    "                \n",
    "    def parse_skills(self,sk_seg,sk_data,infoDict):#talent_skills,\n",
    "        \n",
    "        #print(\"check segment\", sk_seg)\n",
    "        \n",
    "        cnx = MySQLdb.connect(host = 'localhost',\n",
    "                             database = 'cv_parse',\n",
    "                             user = 'root',\n",
    "                             password = 'root', \n",
    "                             compress = 1,\n",
    "                             cursorclass=MySQLdb.cursors.DictCursor)\n",
    "\n",
    "        cursor = cnx.cursor()\n",
    "        \n",
    "        skill_segment = sk_seg\n",
    "        sk = sk_data\n",
    "        infoDict = infoDict\n",
    "        infoDict['skill_keyword'] = []\n",
    "        \n",
    "        max_score,longest_length = 0,0\n",
    "        skills_flag = False\n",
    "        closest_skill_1,closest_skill_2 = \"\",\"\"\n",
    "        sl = []\n",
    "        sk['skills'] = []\n",
    "        #st = []\n",
    "        #print(skill_segment)\n",
    "        #print(len(skill_segment))\n",
    "        try:  \n",
    "            if len(skill_segment) > 0 or skill_segment is not None:\n",
    "                for i in range(0,len(skill_segment)):\n",
    "                    text = skill_segment[i]\n",
    "                    #print(text)\n",
    "                    if not skills_flag:\n",
    "                        #for skill in programming_skills:\n",
    "                        text = text.replace(\"'\",\"\")\n",
    "                        query = \"\"\"SELECT skills FROM cv_parse.skill_table\n",
    "                                WHERE '\"\"\"+ text + \"\"\"' LIKE CONCAT('%',skils,'%')\"\"\"\n",
    "                        #print(query)\n",
    "                        cursor.execute(query)\n",
    "                        skl = cursor.fetchall()\n",
    "                        \n",
    "                        if s:\n",
    "                            s = skl[0]['skills']\n",
    "                        #for s in talent_skills:\n",
    "                            #print(s)\n",
    "                            #print(skill)\n",
    "\n",
    "                            #if s in text:\n",
    "                            sl.append(s)\n",
    "                            skills_flag = True\n",
    "\n",
    "\n",
    "                        #for skill in tools:\n",
    "                        #    if skill in text:\n",
    "                        #        st.append(skill)\n",
    "                    if not sl:# or not st:\n",
    "                        infoDict['skill_keyword'].append(text)\n",
    "                sk['skills'] = list(set(sl))\n",
    "        except:\n",
    "            print(\"No skills mention\")\n",
    "        print(\"output skill ===\",sk)\n",
    "        return sk, infoDict\n"
   ]
  },
  {
   "cell_type": "code",
   "execution_count": 4,
   "metadata": {},
   "outputs": [
    {
     "data": {
      "text/plain": [
       "<__main__.skills_details at 0x105033438>"
      ]
     },
     "execution_count": 4,
     "metadata": {},
     "output_type": "execute_result"
    }
   ],
   "source": [
    "skills_details()"
   ]
  },
  {
   "cell_type": "code",
   "execution_count": null,
   "metadata": {
    "collapsed": true
   },
   "outputs": [],
   "source": [
    "fsdvs"
   ]
  }
 ],
 "metadata": {
  "kernelspec": {
   "display_name": "Python 3",
   "language": "python",
   "name": "python3"
  },
  "language_info": {
   "codemirror_mode": {
    "name": "ipython",
    "version": 3
   },
   "file_extension": ".py",
   "mimetype": "text/x-python",
   "name": "python",
   "nbconvert_exporter": "python",
   "pygments_lexer": "ipython3",
   "version": "3.6.3"
  }
 },
 "nbformat": 4,
 "nbformat_minor": 2
}
