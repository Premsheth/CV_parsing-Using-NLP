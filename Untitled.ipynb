{
 "cells": [
  {
   "cell_type": "code",
   "execution_count": 9,
   "metadata": {
    "collapsed": true
   },
   "outputs": [],
   "source": [
    "work_key = ['', 'CURRICULUM VITAE', 'PERSONAL DETAILS', '|             |Zafrin Begum                                                  |', '|             |London                                                        |', 'PROFESSIONAL QUALIFICATIONS', '|2008 -       |ACCA  Level 1 complete.  Mid-way through level 2              |', '|present      |                                                               |', 'EDUCATION', '|Oct 2006    |The University of Greenwich                                    |', '|May 2007     |                                                               |', '|             |MSc in Accounting and Finance                                  |', '|Sep 2003    |The University of Greenwich                                    |', '|Jul 2006     |                                                               |', '|             |BA Hons. Accounting and Finance; 2:2                           |', '|Sep 2001    |Tower Hamlets College                                          |', '|Jul 2003     |                                                               |', '|             |A-Level; Communication (B)                                     |', '|             |AVCE - Economics, Finance and Marketing; A-Level equivalent    |', '|             |grades B & C                                                   |', '|Sep 1995    |Central Foundation Secondary School                            |', '|Jul 2001     |                                                               |', '|             |7 GCSEs grade A-C including English and Maths                  |', 'COMPUTER SKILLS', '|             |SUN, Vision, Housing Academy, Business Objects, SPSS, Excel    |', '|             |(basic macros, modelling, pivot tables, look ups), Word, Access|', '|             |and PowerPoint                                                 |', 'CAREER HISTORY', '|Jun 2007    |University of Greenwich                               |', '|Date         |                                                      |', '|             |Assistant Management Accountant                       |', 'RESPONSIBILITIES', '|             |Provision of management accounting services to school and     |', '|             |administrative office budget holders throughout the           |', '|             |University, ensuring that accurate and timely budget          |', '|             |management information is given to those budget holders, to   |', '|             |enable them to manage their budgets effectively.  Provision of|', '|             |information and advice to budget-holders in constructing their|', '|             |budget submissions.  Early identification and reporting of    |', '|             |significant variances.                                        |', '|             |Supporting role in the annual budget setting process; budget  |', '|             |requests; calculation of salary budgets; reviewing and        |', '|             |summarising submissions; excess and overseas fees calculation;|', '|             |any other duties as required                                  |', '|             |Supporting role in the preparation of the statutory financial |', '|             |statements for the University and its subsidiaries;           |', '|             |preparation of schedules and analytical reviews.              |', '|             |Advice to budget-holders managers re new staff.               |', '|             |Supporting role re major outputs of the Finance Office re HESA|', '|             |and Hefce returns                                             |', '|             |Review of outstanding orders.                                 |', '|             |Participation in the annual training for budget managers.     |', '|             |To assist in the preparation of the Transparency Return,      |', '|             |collection of timesheet data and minutes for the TRAC Working |', '|             |Group.                                                        |', '|             |Excess travel claims for staff and students.                  |', '|             |Cheque and electronic payments cheque and BACS run processes. |', '|             |Transfer monthly salaries interface from Payroll system to    |', '|             |BANNER                                                        |', '|             |Responsible for the maintenance of the salary database,       |', '|             |provision of salary information to budget holders, dealing    |', '|             |with queries.                                                 |', '|             |Maintenance of the Chart of Accounts (backup)                 |', '|             |Ad hoc requests for management information and reports e.g.   |', '|             |business plans for schools and courses costing.  Value for    |', '|             |money studies.                                                |', '|             |Batching and completion of journals and journal uploads, as   |', '|             |required                                                      |', '|             |Reason for leaving: To secure a permanent position            |', '|Jun 2006    |Peabody Trust                                         |', '|May 2007     |                                                      |', '|             |Junior Analyst                                        |', 'RESPONSIBILITIES', '|             |Benchmarking Peabodys performance against peer organisations |', '|             |Financial modelling of Peabodys supported housing and market |', '|             |rent portfolios                                               |', '|             |Financial modelling of Peabodys market                       |', '|             |Cash release of 2.8 million from trustees of Peabodys  loan |', '|             |stock                                                         |', '|             |Calculating sinking fund for Peabody properties over the      |', '|             |duration of 30 years                                          |', '|             |Reconciliation of Peabodys budget and allocating asset costs |', '|             |Capitalisation of assets                                      |', '|             |Compiling efficiency metrics for all Peabody directorates     |', '|             |Populated contract database for Procurement Manager and       |', '|             |created a supplier analysis model                             |', '|             |Key contact for audit of leasehold service charge statements  |', '|             |Analysis of major works rechargeable to leaseholders with the |', '|             |18 month period                                               |', '|             |Analysis of invoices from major supplier to assess possibility|', '|             |of overcharging                                               |', '|             |Reason for leaving: Worked full-time whilst studying and      |', '|             |couldnt offer permanent position after this period           |', '|Jan 2004    |Ocean Maths Project                                   |', '|Jan 2007     |                                                      |', '|             |Monitoring Assistant                                  |', 'RESPONSIBILITIES', '|             |Local Government funded project which tackles the issue of    |', '|             |parents with very low levels of literacy and numeracy, who    |', '|             |have a negative impact on their childrens education          |', '|             |Participated in monthly workshops for parents alone and for   |', '|             |parents and children at the schools                           |', '|             |Prepare answer sheets for homework, mark homework and collect |', '|             |and analyse data to monitor the performance of the Project    |', '|Jul 2002    |Marks and Spencer                                     |', '|Nov 2003     |                                                      |', '|             |Sales Assistant                                       |', 'RESPONSIBILITIES', '|             |Cashiering                                                    |', '|             |Stocktaking and replenishing shelves                          |', '|             |Carried out several administrative tasks such as ticketing,   |', '|             |checking invoices and completing general paper work           |', '|             |Dealt with customers queries                                  |', '']"
   ]
  },
  {
   "cell_type": "code",
   "execution_count": 10,
   "metadata": {},
   "outputs": [
    {
     "data": {
      "text/plain": [
       "['',\n",
       " 'CURRICULUM VITAE',\n",
       " 'PERSONAL DETAILS',\n",
       " '|             |Zafrin Begum                                                  |',\n",
       " '|             |London                                                        |',\n",
       " 'PROFESSIONAL QUALIFICATIONS',\n",
       " '|2008 -       |ACCA  Level 1 complete.  Mid-way through level 2              |',\n",
       " '|present      |                                                               |',\n",
       " 'EDUCATION',\n",
       " '|Oct 2006    |The University of Greenwich                                    |',\n",
       " '|May 2007     |                                                               |',\n",
       " '|             |MSc in Accounting and Finance                                  |',\n",
       " '|Sep 2003    |The University of Greenwich                                    |',\n",
       " '|Jul 2006     |                                                               |',\n",
       " '|             |BA Hons. Accounting and Finance; 2:2                           |',\n",
       " '|Sep 2001    |Tower Hamlets College                                          |',\n",
       " '|Jul 2003     |                                                               |',\n",
       " '|             |A-Level; Communication (B)                                     |',\n",
       " '|             |AVCE - Economics, Finance and Marketing; A-Level equivalent    |',\n",
       " '|             |grades B & C                                                   |',\n",
       " '|Sep 1995    |Central Foundation Secondary School                            |',\n",
       " '|Jul 2001     |                                                               |',\n",
       " '|             |7 GCSEs grade A-C including English and Maths                  |',\n",
       " 'COMPUTER SKILLS',\n",
       " '|             |SUN, Vision, Housing Academy, Business Objects, SPSS, Excel    |',\n",
       " '|             |(basic macros, modelling, pivot tables, look ups), Word, Access|',\n",
       " '|             |and PowerPoint                                                 |',\n",
       " 'CAREER HISTORY',\n",
       " '|Jun 2007    |University of Greenwich                               |',\n",
       " '|Date         |                                                      |',\n",
       " '|             |Assistant Management Accountant                       |',\n",
       " 'RESPONSIBILITIES',\n",
       " '|             |Provision of management accounting services to school and     |',\n",
       " '|             |administrative office budget holders throughout the           |',\n",
       " '|             |University, ensuring that accurate and timely budget          |',\n",
       " '|             |management information is given to those budget holders, to   |',\n",
       " '|             |enable them to manage their budgets effectively.  Provision of|',\n",
       " '|             |information and advice to budget-holders in constructing their|',\n",
       " '|             |budget submissions.  Early identification and reporting of    |',\n",
       " '|             |significant variances.                                        |',\n",
       " '|             |Supporting role in the annual budget setting process; budget  |',\n",
       " '|             |requests; calculation of salary budgets; reviewing and        |',\n",
       " '|             |summarising submissions; excess and overseas fees calculation;|',\n",
       " '|             |any other duties as required                                  |',\n",
       " '|             |Supporting role in the preparation of the statutory financial |',\n",
       " '|             |statements for the University and its subsidiaries;           |',\n",
       " '|             |preparation of schedules and analytical reviews.              |',\n",
       " '|             |Advice to budget-holders managers re new staff.               |',\n",
       " '|             |Supporting role re major outputs of the Finance Office re HESA|',\n",
       " '|             |and Hefce returns                                             |',\n",
       " '|             |Review of outstanding orders.                                 |',\n",
       " '|             |Participation in the annual training for budget managers.     |',\n",
       " '|             |To assist in the preparation of the Transparency Return,      |',\n",
       " '|             |collection of timesheet data and minutes for the TRAC Working |',\n",
       " '|             |Group.                                                        |',\n",
       " '|             |Excess travel claims for staff and students.                  |',\n",
       " '|             |Cheque and electronic payments cheque and BACS run processes. |',\n",
       " '|             |Transfer monthly salaries interface from Payroll system to    |',\n",
       " '|             |BANNER                                                        |',\n",
       " '|             |Responsible for the maintenance of the salary database,       |',\n",
       " '|             |provision of salary information to budget holders, dealing    |',\n",
       " '|             |with queries.                                                 |',\n",
       " '|             |Maintenance of the Chart of Accounts (backup)                 |',\n",
       " '|             |Ad hoc requests for management information and reports e.g.   |',\n",
       " '|             |business plans for schools and courses costing.  Value for    |',\n",
       " '|             |money studies.                                                |',\n",
       " '|             |Batching and completion of journals and journal uploads, as   |',\n",
       " '|             |required                                                      |',\n",
       " '|             |Reason for leaving: To secure a permanent position            |',\n",
       " '|Jun 2006    |Peabody Trust                                         |',\n",
       " '|May 2007     |                                                      |',\n",
       " '|             |Junior Analyst                                        |',\n",
       " 'RESPONSIBILITIES',\n",
       " '|             |Benchmarking Peabodys performance against peer organisations |',\n",
       " '|             |Financial modelling of Peabodys supported housing and market |',\n",
       " '|             |rent portfolios                                               |',\n",
       " '|             |Financial modelling of Peabodys market                       |',\n",
       " '|             |Cash release of 2.8 million from trustees of Peabodys  loan |',\n",
       " '|             |stock                                                         |',\n",
       " '|             |Calculating sinking fund for Peabody properties over the      |',\n",
       " '|             |duration of 30 years                                          |',\n",
       " '|             |Reconciliation of Peabodys budget and allocating asset costs |',\n",
       " '|             |Capitalisation of assets                                      |',\n",
       " '|             |Compiling efficiency metrics for all Peabody directorates     |',\n",
       " '|             |Populated contract database for Procurement Manager and       |',\n",
       " '|             |created a supplier analysis model                             |',\n",
       " '|             |Key contact for audit of leasehold service charge statements  |',\n",
       " '|             |Analysis of major works rechargeable to leaseholders with the |',\n",
       " '|             |18 month period                                               |',\n",
       " '|             |Analysis of invoices from major supplier to assess possibility|',\n",
       " '|             |of overcharging                                               |',\n",
       " '|             |Reason for leaving: Worked full-time whilst studying and      |',\n",
       " '|             |couldnt offer permanent position after this period           |',\n",
       " '|Jan 2004    |Ocean Maths Project                                   |',\n",
       " '|Jan 2007     |                                                      |',\n",
       " '|             |Monitoring Assistant                                  |',\n",
       " 'RESPONSIBILITIES',\n",
       " '|             |Local Government funded project which tackles the issue of    |',\n",
       " '|             |parents with very low levels of literacy and numeracy, who    |',\n",
       " '|             |have a negative impact on their childrens education          |',\n",
       " '|             |Participated in monthly workshops for parents alone and for   |',\n",
       " '|             |parents and children at the schools                           |',\n",
       " '|             |Prepare answer sheets for homework, mark homework and collect |',\n",
       " '|             |and analyse data to monitor the performance of the Project    |',\n",
       " '|Jul 2002    |Marks and Spencer                                     |',\n",
       " '|Nov 2003     |                                                      |',\n",
       " '|             |Sales Assistant                                       |',\n",
       " 'RESPONSIBILITIES',\n",
       " '|             |Cashiering                                                    |',\n",
       " '|             |Stocktaking and replenishing shelves                          |',\n",
       " '|             |Carried out several administrative tasks such as ticketing,   |',\n",
       " '|             |checking invoices and completing general paper work           |',\n",
       " '|             |Dealt with customers queries                                  |',\n",
       " '']"
      ]
     },
     "execution_count": 10,
     "metadata": {},
     "output_type": "execute_result"
    }
   ],
   "source": [
    "work_key"
   ]
  },
  {
   "cell_type": "code",
   "execution_count": 11,
   "metadata": {
    "collapsed": true
   },
   "outputs": [],
   "source": [
    "import csv\n",
    "def read_csv(input_file):\n",
    "    file = open(input_file, 'r')\n",
    "    reader = csv.reader(file)\n",
    "    return reader\n",
    "\n",
    "def get_keywords(dir_path,file_name):\n",
    "    reader = read_csv(dir_path + file_name)\n",
    "    keywords = []\n",
    "    for row in reader:\n",
    "        keywords.append(row[0])\n",
    "    return keywords\n",
    "def search_keyword(text, keyword_list):\n",
    "    for word in keyword_list:\n",
    "        word = str(word)\n",
    "        if word.title() in text or word.upper() in text or word.capitalize() in text:\n",
    "            return True\n",
    "    return False"
   ]
  },
  {
   "cell_type": "code",
   "execution_count": 14,
   "metadata": {},
   "outputs": [
    {
     "name": "stdout",
     "output_type": "stream",
     "text": [
      "CAREER HISTORY\n"
     ]
    }
   ],
   "source": [
    "dir_path = '/Users/imac086/Documents/premal/projects_Quix/CV_parsing/final_cv_parsing_code/database/'\n",
    "work_experience_keywords = get_keywords(dir_path,\"work_experience_segment.csv\")\n",
    "for i in range(0,len(work_key)):\n",
    "    text = work_key[i]\n",
    "    #print(text)\n",
    "    if search_keyword(text,work_experience_keywords):\n",
    "        print(text)"
   ]
  },
  {
   "cell_type": "code",
   "execution_count": null,
   "metadata": {
    "collapsed": true
   },
   "outputs": [],
   "source": []
  }
 ],
 "metadata": {
  "kernelspec": {
   "display_name": "Python 3",
   "language": "python",
   "name": "python3"
  },
  "language_info": {
   "codemirror_mode": {
    "name": "ipython",
    "version": 3
   },
   "file_extension": ".py",
   "mimetype": "text/x-python",
   "name": "python",
   "nbconvert_exporter": "python",
   "pygments_lexer": "ipython3",
   "version": "3.6.3"
  }
 },
 "nbformat": 4,
 "nbformat_minor": 2
}
